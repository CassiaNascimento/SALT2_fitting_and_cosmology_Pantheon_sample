{
 "cells": [
  {
   "cell_type": "code",
   "execution_count": 1,
   "id": "6572e158",
   "metadata": {},
   "outputs": [
    {
     "name": "stderr",
     "output_type": "stream",
     "text": [
      "WARNING: AstropyDeprecationWarning: The update_default_config function is deprecated and may be removed in a future version. [sncosmo]\n"
     ]
    }
   ],
   "source": [
    "import sncosmo\n",
    "import numpy as np\n",
    "import ipywidgets as widgets\n",
    "import pandas as pd\n",
    "import matplotlib.pyplot as plt\n",
    "from sncosmo.salt2utils import BicubicInterpolator\n",
    "from scipy.interpolate import (\n",
    "    InterpolatedUnivariateSpline as Spline1d,\n",
    "    RectBivariateSpline as Spline2d\n",
    ")\n",
    "import pickle as pk\n",
    "from matplotlib.backends.backend_pdf import PdfPages\n",
    "import os \n",
    "from matplotlib.offsetbox import AnchoredText\n",
    "import astropy.constants as const\n",
    "import astropy.units as u\n",
    "import seaborn as sns\n",
    "\n",
    "sns.set(style='whitegrid')\n",
    "plt.rc('xtick',labelsize=12)\n",
    "plt.rc('ytick',labelsize=12)\n",
    "\n",
    "H_ERG_S = const.h.cgs.value\n",
    "C_AA_PER_S = const.c.to(u.AA / u.s).value\n",
    "HC_ERG_AA = H_ERG_S * C_AA_PER_S\n",
    "SCALE_FACTOR = 1e-12"
   ]
  },
  {
   "cell_type": "markdown",
   "id": "a67bac7d-8d4c-4021-9cc7-1f8d47e03c19",
   "metadata": {},
   "source": [
    "## Comentários"
   ]
  },
  {
   "cell_type": "markdown",
   "id": "5cb35dc9-047a-4557-bf60-0ec1c5385e36",
   "metadata": {},
   "source": [
    "Estou testando cortar partes dos filtros pros modelos falharem menos."
   ]
  },
  {
   "cell_type": "markdown",
   "id": "eb821a35-da3e-4392-a407-6a9cf190076a",
   "metadata": {},
   "source": [
    "Algumas SNe estão repetidas. Não há ajuste duplicado porque há uma ordem para checar se existem os arquivos, então o último a ser checado é o ajustado. Mas isso é um problema a ser observado."
   ]
  },
  {
   "cell_type": "markdown",
   "id": "75d899fe-0ec0-4f71-9db2-1ce9978a8241",
   "metadata": {},
   "source": [
    "A covariância afeta bastante o resultado do CHISQ inclusive para o SALT2 e SALT2 cortado, então acho que podemos ser flexíveis nesse corte ou melhorar o modelo da covariância do EXP."
   ]
  },
  {
   "cell_type": "markdown",
   "id": "47fc639b-9a54-4652-8484-34e1f20931ac",
   "metadata": {},
   "source": [
    "Consertar se ndof=0, não uncluir o ajuste."
   ]
  },
  {
   "cell_type": "markdown",
   "id": "64d284b1-44b2-4209-a9d3-2bf0fce0edae",
   "metadata": {},
   "source": [
    "Me parece que os ajustes, principalmente do EXP ATUAL tem muitos artefatos."
   ]
  },
  {
   "cell_type": "markdown",
   "id": "0964b5a7-2af2-42a8-9199-075f65bafe43",
   "metadata": {
    "tags": []
   },
   "source": [
    "## Recuperando curvas de luz"
   ]
  },
  {
   "cell_type": "code",
   "execution_count": 2,
   "id": "63aec6ca",
   "metadata": {},
   "outputs": [],
   "source": [
    "path=\"./light_curves/Pantheon/Pantheon_HST_TEXT/\""
   ]
  },
  {
   "cell_type": "code",
   "execution_count": 3,
   "id": "1e8f3743",
   "metadata": {},
   "outputs": [],
   "source": [
    "l=[]\n",
    "with open(path+\"Pantheon_HST_TEXT.README\",'r') as f:\n",
    "    for line in f:\n",
    "        l.append(line.split())"
   ]
  },
  {
   "cell_type": "code",
   "execution_count": 4,
   "id": "c435ac2e",
   "metadata": {},
   "outputs": [],
   "source": [
    "sne_pass_cut=[l[8:35][i][0] for i in range(0,len(l[8:35]))]"
   ]
  },
  {
   "cell_type": "code",
   "execution_count": 5,
   "id": "5511157a",
   "metadata": {},
   "outputs": [
    {
     "data": {
      "text/plain": [
       "27"
      ]
     },
     "execution_count": 5,
     "metadata": {},
     "output_type": "execute_result"
    }
   ],
   "source": [
    "len(sne_pass_cut)"
   ]
  },
  {
   "cell_type": "markdown",
   "id": "17625c26",
   "metadata": {
    "tags": []
   },
   "source": [
    "## Decodificando filtros"
   ]
  },
  {
   "cell_type": "code",
   "execution_count": 6,
   "id": "3709d01f",
   "metadata": {},
   "outputs": [],
   "source": [
    "filters_dict={\"candles\":{\"a\":\"ACS_WFC_F435W\",\n",
    "                         \"b\":\"ACS_WFC_F475W\",\n",
    "                         \"c\":\"ACS_WFC_F606W\",\n",
    "                         \"d\":\"ACS_WFC_F625W\",\n",
    "                         \"e\":\"ACS_WFC_F775W\",\n",
    "                         \"f\":\"ACS_WFC_F814W\",\n",
    "                         \"g\":\"ACS_WFC_F850LP\",\n",
    "                         \"h\":\"WFC3_UVIS_F225W\",\n",
    "                         \"i\":\"WFC3_UVIS_F275W\",\n",
    "                         \"j\":\"WFC3_UVIS_F336W\",\n",
    "                         \"k\":\"WFC3_UVIS_F390W\",\n",
    "                         \"l\":\"WFC3_UVIS_F350LP\",\n",
    "                         \"m\":\"WFC3_IR_F105W\",\n",
    "                         \"n\":\"WFC3_IR_F110W\",\n",
    "                         \"o\":\"WFC3_IR_F125W\",\n",
    "                         \"p\":\"WFC3_IR_F140W\",\n",
    "                         \"q\":\"WFC3_IR_F160W\",\n",
    "                         \"r\":\"WFC3_IR_F098M\",\n",
    "                         \"s\":\"WFC3_IR_F127M\",\n",
    "                         \"t\":\"WFC3_IR_F139M\",\n",
    "                         \"u\":\"WFC3_IR_F153M\"},\n",
    "                \"goods\":{\"v\":\"F110W_NIC2\",\n",
    "                         \"w\":\"F160W_NIC2\",\n",
    "                         \"x\":\"F606W_ACS\",\n",
    "                         \"y\":\"F675W_WFPC2\",\n",
    "                         \"z\":\"F775W_ACS\",\n",
    "                         \"A\":\"F814W_WFPC2\",\n",
    "                         \"B\":\"F850LP_ACS\",\n",
    "                          \"C\":\"F110W_NIC2\",\n",
    "                          \"D\":\"F775W_ACS\",\n",
    "                          \"E\":\"F850LP_ACS\",\n",
    "                          \"F\":\"NIC3.F110r\", # n tem .dat\n",
    "                          \"G\":\"NIC3.F160r\", # n tem .dat\n",
    "                          \"H\":\"wfpc2.f814w.092003r\",\n",
    "                          \"I\":\"F110W_NIC2\",\n",
    "                          \"J\":\"newh_nirc2\",\n",
    "                          \"K\":\"F775W_ACS\",\n",
    "                          \"L\":\"F850LP_ACS\"}}"
   ]
  },
  {
   "cell_type": "code",
   "execution_count": 7,
   "id": "0cc27eee-9697-487b-854b-53c050dc405a",
   "metadata": {},
   "outputs": [],
   "source": [
    "path_f_can=\"/home/cassia/SNANA/snroot/filters/PS1/Pantheon/HST/HST_Candles/\"\n",
    "path_f_goods=\"/home/cassia/SNANA/snroot/filters/PS1/Pantheon/HST/HST_GOODS/\""
   ]
  },
  {
   "cell_type": "markdown",
   "id": "5295a5d4-50ec-4f32-b9a6-be24e563cfe5",
   "metadata": {
    "tags": []
   },
   "source": [
    "## Registrando filtros e criando sistema de magnitude composto"
   ]
  },
  {
   "cell_type": "code",
   "execution_count": 8,
   "id": "b68664cc-14ca-4eb1-b2c4-cfc4395256c8",
   "metadata": {},
   "outputs": [],
   "source": [
    "ab = sncosmo.get_magsystem('ab')"
   ]
  },
  {
   "cell_type": "code",
   "execution_count": 9,
   "id": "237f06be-7368-4a24-b534-37609af5a302",
   "metadata": {},
   "outputs": [],
   "source": [
    "for surv in filters_dict:\n",
    "    if surv==\"candles\":\n",
    "        for filt in filters_dict[surv].values():\n",
    "            wave = pd.read_csv(path_f_can+filt+\".dat\",header=None,sep=\"\\s+\",comment=\"#\")[0].values\n",
    "            trans = pd.read_csv(path_f_can+filt+\".dat\",header=None,sep=\"\\s+\",comment=\"#\")[1].values\n",
    "            band = sncosmo.Bandpass(wave, trans, name=surv+'_'+filt,trim_level=0.05)\n",
    "        \n",
    "            sncosmo.registry.register(band,force=True)\n",
    "    if surv==\"goods\":\n",
    "        for filt in filters_dict[surv].values():\n",
    "            if filt in [\"NIC3.F110r\",\"NIC3.F160r\"]:\n",
    "                wave = pd.read_csv(path_f_goods+filt,header=None,sep=\"\\s+\",comment=\"#\")[0].values\n",
    "                trans = pd.read_csv(path_f_goods+filt,header=None,sep=\"\\s+\",comment=\"#\")[1].values\n",
    "                band = sncosmo.Bandpass(wave, trans, name=surv+'_'+filt,trim_level=0.05)\n",
    "        \n",
    "                sncosmo.registry.register(band,force=True)\n",
    "            else:\n",
    "                wave = pd.read_csv(path_f_goods+filt+\".dat\",header=None,sep=\"\\s+\",comment=\"#\")[0].values\n",
    "                trans = pd.read_csv(path_f_goods+filt+\".dat\",header=None,sep=\"\\s+\",comment=\"#\")[1].values\n",
    "                band = sncosmo.Bandpass(wave, trans, name=surv+'_'+filt,trim_level=0.05)\n",
    "        \n",
    "                sncosmo.registry.register(band,force=True)"
   ]
  },
  {
   "cell_type": "code",
   "execution_count": 10,
   "id": "af3f48cf-b1e8-400c-88e6-d8c980ddb6e2",
   "metadata": {
    "tags": []
   },
   "outputs": [],
   "source": [
    "magsystem = {\"candles\":{\"candles_ACS_WFC_F435W\":('ab',0.),\n",
    "                      \"candles_ACS_WFC_F475W\":('ab',0.),\n",
    "                      \"candles_ACS_WFC_F606W\":('ab',0.),\n",
    "                      \"candles_ACS_WFC_F625W\":('ab',0.),\n",
    "                      \"candles_ACS_WFC_F775W\":('ab',0.),\n",
    "                      \"candles_ACS_WFC_F775W\":('ab',0.),\n",
    "                      \"candles_ACS_WFC_F814W\":('ab',0.),\n",
    "                      \"candles_ACS_WFC_F850LP\":('ab',0.),\n",
    "                      \"candles_WFC3_UVIS_F225W\":('ab',0.),\n",
    "                      \"candles_WFC3_UVIS_F275W\":('ab',0.),\n",
    "                      \"candles_WFC3_UVIS_F336W\":('ab',0.),\n",
    "                      \"candles_WFC3_UVIS_F390W\":('ab',0.),\n",
    "                      \"candles_WFC3_UVIS_F350LP\":('ab',0.),\n",
    "                      \"candles_WFC3_IR_F105W\":('ab',0.),\n",
    "                      \"candles_WFC3_IR_F110W\":('ab',0.),\n",
    "                      \"candles_WFC3_IR_F125W\":('ab',0.),\n",
    "                      \"candles_WFC3_IR_F140W\":('ab',0.),\n",
    "                      \"candles_WFC3_IR_F160W\":('ab',0.),\n",
    "                      \"candles_WFC3_IR_F098M\":('ab',0.),\n",
    "                      \"candles_WFC3_IR_F127M\":('ab',0.),\n",
    "                      \"candles_WFC3_IR_F139M\":('ab',0.),\n",
    "                      \"candles_WFC3_IR_F153M\":('ab',0.)},\n",
    "             \"goods\":{\"goods_F110W_NIC2\":('ab',0.),\n",
    "                      \"goods_F160W_NIC2\":('ab',0.),\n",
    "                      \"goods_F606W_ACS\":('ab',0.),\n",
    "                      \"goods_F675W_WFPC2\":('ab',0.),\n",
    "                      \"goods_F775W_ACS\":('ab',0.),\n",
    "                      \"goods_F814W_WFPC2\":('ab',0.),\n",
    "                      \"goods_F850LP_ACS\":('ab',0.),\n",
    "                      \"goods_NIC3.F110r\":('ab',0.),\n",
    "                      \"goods_NIC3.F160r\":('ab',0.),\n",
    "                      \"goods_wfpc2.f814w.092003r\":('ab',0.),\n",
    "                      \"goods_newh_nirc2\":('ab',0.)}}"
   ]
  },
  {
   "cell_type": "markdown",
   "id": "410d3848",
   "metadata": {
    "tags": []
   },
   "source": [
    "## Ajustando curvas de luz"
   ]
  },
  {
   "cell_type": "code",
   "execution_count": 11,
   "id": "bc3464a9",
   "metadata": {},
   "outputs": [],
   "source": [
    "def lc_fit(sn):    \n",
    "\n",
    "    if os.path.exists(path+\"HST_\"+sn+\".DAT\")==True:\n",
    "        meta, tables = sncosmo.read_snana_ascii(path+\"HST_\"+sn+\".DAT\", default_tablename='OBS') \n",
    "        surv=\"goods\"\n",
    "    elif os.path.exists(path+\"htHST_CANDELS1_\"+sn.lower()+\".dat\")==True:\n",
    "        meta, tables = sncosmo.read_snana_ascii(path+\"htHST_CANDELS1_\"+sn.lower()+\".dat\", default_tablename='OBS') \n",
    "        surv=\"candles\"\n",
    "    else:\n",
    "        return print(f\"File not found for SN {sn}\")\n",
    "    \n",
    "    dat=tables[\"OBS\"]\n",
    "\n",
    "    dat.add_column([surv+\"_\"+filters_dict[surv][f] for f in dat[\"FLT\"]], name='FILTER') # decodificando\n",
    "    dat.remove_column(\"FLT\")\n",
    "\n",
    "    dat.remove_rows(np.where(dat[\"FLUXCAL\"]<0)[0])\n",
    "\n",
    "    magsys=sncosmo.CompositeMagSystem(bands=magsystem[surv],name=\"magsys\")\n",
    "    sncosmo.register(magsys,force=True)\n",
    "        \n",
    "    try:\n",
    "        dat.remove_rows(np.where(np.isnan(dat[\"MAG\"]))[0])\n",
    "        dat[\"FLUX\"]=[magsys.band_mag_to_flux(dat[\"MAG\"][i],dat[\"FILTER\"][i]) for i in range(len(dat[\"MAG\"]))]\n",
    "        dat[\"FLUXERR\"]=[abs(0.4*dat[\"FLUX\"][i]*np.log(10.)*dat[\"MAGERR\"][i]) for i in range(len(dat[\"MAG\"]))]\n",
    "    except:\n",
    "        dat[\"MAG\"]=-2.5*np.log10(dat[\"FLUXCAL\"])+27.5\n",
    "        dat[\"MAGERR\"]=abs(2.5*np.log10(np.e)*dat[\"FLUXCALERR\"]/dat[\"FLUXCAL\"])\n",
    "        dat.remove_rows(np.where(np.isnan(dat[\"MAG\"]))[0])\n",
    "        dat[\"FLUX\"]=[ab.band_mag_to_flux(dat[\"MAG\"][i],dat[\"FILTER\"][i]) for i in range(len(dat[\"MAG\"]))]\n",
    "        dat[\"FLUXERR\"]=[abs(0.4*dat[\"FLUX\"][i]*np.log(10.)*dat[\"MAGERR\"][i]) for i in range(len(dat[\"MAG\"]))]\n",
    "\n",
    "    rm_f=[]\n",
    "    if sn==\"Primo\":\n",
    "        dat.remove_rows(np.where(dat[\"FILTER\"]==\"candles_ACS_WFC_F814W\")[0])\n",
    "        rm_f=[\"candles_ACS_WFC_F814W\"]\n",
    "        \n",
    "    if sn==\"colfax\":\n",
    "        dat.remove_rows(np.where(dat[\"FILTER\"]==\"candles_ACS_WFC_F814W\")[0])\n",
    "        dat.remove_rows(np.where(dat[\"FILTER\"]==\"candles_ACS_WFC_F850LP\")[0])\n",
    "        rm_f=[\"candles_ACS_WFC_F814W\",\"candles_ACS_WFC_F850LP\"]\n",
    "    \n",
    "    if sn==\"Lancaster\":\n",
    "        dat.remove_rows(np.where(dat[\"FILTER\"]==\"F160W_NIC2\")[0])\n",
    "        rm_f=[\"F160W_NIC2\"]\n",
    "\n",
    "    dat.remove_columns([\"FIELD\",\"MAG\",\"MAGERR\"])\n",
    "     \n",
    "    # ref de repouso: (t-t0)/(1+z), no SNANA fazem um corte de -15 a 45 no referencial de repouso. E também tem um corte no \n",
    "    # intervalo de comprimento de onda, eu apliquei esses cortes abaixo em phase_range e wave_range. Porém não tenho certeza\n",
    "    # se o sncosmo corta no ref de repouso ou do observador. Alterando isso, os valores de x1 para 2001ah e 2001az mudam drasticamento\n",
    "    # equivalendo a mesma mudança que ocorre no snana quando fazemos a mesma alteração no TREST_REJECT.    \n",
    "    \n",
    "    dat[\"ZP\"]=[2.5*np.log10(magsys.zpbandflux(f)) for f in dat[\"FILTER\"]]\n",
    "    dat.add_column(\"magsys\", name='ZPSYS')\n",
    "    \n",
    "    dust = sncosmo.F99Dust() \n",
    "\n",
    "    # para algumas sne como 2006bb o chi2 da minimizacao da Nan e não é possível ajustar a sn. A mesma sn no snana é ajustada pelo salt.\n",
    "    # alterando intervalo de dias e comprimento de onda de atuação do ajustador, ainda não é possível evitar o nan já no primeiro passo.\n",
    "    \n",
    "    model = sncosmo.Model(source='salt2',effects=[dust],effect_names=['mw'],effect_frames=['obs'])\n",
    "    model.set(mwebv=meta[\"MWEBV\"],z=meta[\"REDSHIFT_FINAL\"]) \n",
    "    try:\n",
    "        result, fitted_model = sncosmo.fit_lc(dat, model, ['t0', 'x0', 'x1', 'c'],modelcov=True, phase_range=(-15, 45.), wave_range=(3000.,7000.), verbose=False)\n",
    "    except:\n",
    "        print(f\"SN {sn} fit returns NaN\")\n",
    "        result=None\n",
    "        fitted_model=None\n",
    "    \n",
    "    return meta, surv, rm_f, dat, result, fitted_model"
   ]
  },
  {
   "cell_type": "code",
   "execution_count": 12,
   "id": "82bdbc39-e372-4c04-832b-29a4e38bcfbb",
   "metadata": {
    "tags": []
   },
   "outputs": [],
   "source": [
    "pp = PdfPages(\"./lc_fit_plot_SALT2_HST_Pantheon.pdf\")"
   ]
  },
  {
   "cell_type": "code",
   "execution_count": 13,
   "id": "665389bd-78c2-477e-8f2d-6f534b178693",
   "metadata": {},
   "outputs": [],
   "source": [
    "def lc_fit_plot(sn, surv, rm_f,table_data, result, fitted_model):\n",
    "    z=round(result[\"parameters\"][0],2)\n",
    "    t0=round(result[\"parameters\"][1],2)\n",
    "    x1=round(result[\"parameters\"][3],2)\n",
    "    x1err=round(result[\"errors\"][\"x1\"],2)\n",
    "    c=round(result[\"parameters\"][4],2)\n",
    "    cerr=round(result[\"errors\"][\"c\"],2)\n",
    "    mwebv=result[\"parameters\"][5]\n",
    "    phase=np.linspace(t0-10.,t0+40.,100)\n",
    "    fig=plt.figure(figsize=(12,8))\n",
    "    for i,f in enumerate(magsystem[surv].keys()): \n",
    "        if len(table_data[table_data[\"FILTER\"]==f])==0:\n",
    "            pass\n",
    "        else:\n",
    "            try:              \n",
    "                if f not in rm_f:\n",
    "                    plt.plot(phase-t0,fitted_model.bandflux(f, phase)*10**(-0.4*table_data[table_data[\"FILTER\"]==f][\"ZP\"][0]+11),linewidth=3,color='C%i'%i)\n",
    "                    plt.errorbar(table_data[table_data[\"FILTER\"]==f][\"MJD\"]-t0,table_data[table_data[\"FILTER\"]==f][\"FLUXCAL\"],yerr=table_data[table_data[\"FILTER\"]==f][\"FLUXCALERR\"],label=f,ls=\"none\", marker='o',markersize=8,color='C%i'%i)\n",
    "                    plt.xlabel(f\"MJD-{t0}\",fontsize=15)\n",
    "                    plt.ylabel(r\"FLUX ($Z_{AB}$=27.5)\",fontsize=15)\n",
    "                    plt.title(f\"SALT2 fit, SN: {sn}({surv}),   z:{z:.2f},   x1={x1:.2f}$\\pm${x1err:.2f},   c={c:.2f}$\\pm${cerr:.2f},   mwebv={mwebv:.2f}\",fontsize=15)\n",
    "                    plt.xlim(-12,42)\n",
    "                    plt.legend(fontsize=15)\n",
    "                else: \n",
    "                    continue\n",
    "            except:\n",
    "                print(f\"Filter {f} of sn {sn} not defined.\")\n",
    "                continue\n",
    "    pp.savefig()\n",
    "    plt.close(fig)\n",
    "    #plt.show()"
   ]
  },
  {
   "cell_type": "code",
   "execution_count": 14,
   "id": "838b6f33-841f-47b2-96fd-30f5f2ba06c5",
   "metadata": {
    "tags": []
   },
   "outputs": [],
   "source": [
    " def return_fit_data(meta,res,model_name):\n",
    "    free_par=(list(res.errors.keys()))\n",
    "\n",
    "    return [meta[\"SNID\"], meta[\"SURVEY\"], meta[\"REDSHIFT_FINAL\"], 0., res.parameters[1],\n",
    "           res.errors[free_par[0]], res.parameters[2], res.errors[free_par[1]], res.parameters[3],\n",
    "           res.errors[free_par[2]], res.parameters[4], res.errors[free_par[3]],\n",
    "           res.covariance[1][2], res.covariance[1][3], res.covariance[2][3], \n",
    "           res.chisq/res.ndof, model_name]"
   ]
  },
  {
   "cell_type": "code",
   "execution_count": 15,
   "id": "290d3745",
   "metadata": {
    "tags": []
   },
   "outputs": [
    {
     "name": "stderr",
     "output_type": "stream",
     "text": [
      "/home/cassia/miniconda3/envs/sne/lib/python3.8/site-packages/sncosmo/fitting.py:187: RuntimeWarning: Dropping following bands from data: candles_ACS_WFC_F606W(out of model wavelength range)\n",
      "  warnings.warn(\"Dropping following bands from data: \" +\n"
     ]
    },
    {
     "name": "stdout",
     "output_type": "stream",
     "text": [
      "Filter candles_ACS_WFC_F606W of sn carter not defined.\n"
     ]
    }
   ],
   "source": [
    "all_fit_data=[]\n",
    "f=open(\"./lc_failed_fits_SALT2_HST_Pantheon.txt\",\"w\")\n",
    "i=0\n",
    "for sn in sne_pass_cut:\n",
    "    meta, surv, rm_f, table_data, result, fitted_model=lc_fit(sn) \n",
    "    \n",
    "    if result is None:\n",
    "        f.write(f\"SN {sn} fit returns NaN\\n\")\n",
    "        continue\n",
    "    else:\n",
    "        if result.success and result.ndof>0:\n",
    "            all_fit_data.append(return_fit_data(meta,result,\"SALT2_ORI\"))\n",
    "        elif result.success and result.ndof==0:\n",
    "            f.write(\"ndof 0 for SN\"+sn+\"\\n\")\n",
    "        elif not result.success:\n",
    "            f.write(\"Unsuccessful fit of SN\"+sn+\"\\n\")\n",
    "\n",
    "    lc_fit_plot(sn, surv, rm_f, table_data, result, fitted_model)                       "
   ]
  },
  {
   "cell_type": "code",
   "execution_count": 16,
   "id": "d1c3f8a0-b9a0-4080-a358-6a39029f8bdf",
   "metadata": {
    "tags": []
   },
   "outputs": [],
   "source": [
    "pp.close()"
   ]
  },
  {
   "cell_type": "code",
   "execution_count": 17,
   "id": "50e90d9d-8b9f-4e56-bc35-38b685bd7099",
   "metadata": {
    "tags": []
   },
   "outputs": [],
   "source": [
    "f.close()"
   ]
  },
  {
   "cell_type": "markdown",
   "id": "00927538-5283-4776-bfac-4b26b16b36f4",
   "metadata": {
    "tags": []
   },
   "source": [
    "## Salvando dados dos ajustes"
   ]
  },
  {
   "cell_type": "code",
   "execution_count": 18,
   "id": "8ea90bd8-e0c9-4915-b7ff-bb3b6851ab2b",
   "metadata": {
    "tags": []
   },
   "outputs": [],
   "source": [
    "df=pd.DataFrame(all_fit_data)"
   ]
  },
  {
   "cell_type": "code",
   "execution_count": 19,
   "id": "d04da509-71b5-4b86-b7e4-6aac084a66ba",
   "metadata": {
    "tags": []
   },
   "outputs": [],
   "source": [
    "df=pd.DataFrame(all_fit_data)\n",
    "df.columns=(\"SNNAME\", \"SURVEY\", \"Z\", \"ZERR\", \"T0\", \"T0ERR\", \"X0\", \"X0ERR\", \"X1\", \"X1ERR\", \"X2/C\", \"X2/CERR\", \"COV_X0_X1\", \"COV_X0_X2/C\", \"COV_X1_X2/C\", \"CHISQ/NDOF\", \"MODEL\")"
   ]
  },
  {
   "cell_type": "code",
   "execution_count": 20,
   "id": "72ad5e00-dbed-44ff-b9a9-9b20f8662f8f",
   "metadata": {
    "tags": []
   },
   "outputs": [],
   "source": [
    "df[\"mB\"]=-2.5*np.log10(df[\"X0\"])+10.635  # Mosher 2014\n",
    "df[\"mBERR\"]=np.abs(-2.5*np.log10(np.e)/df[\"X0\"]*df[\"X0ERR\"])\n",
    "df[\"COV_mB_X1\"]=-2.5*np.log10(np.e)/df[\"X0\"]*df[\"COV_X0_X1\"]\n",
    "df[\"COV_mB_X2/C\"]=-2.5*np.log10(np.e)/df[\"X0\"]*df[\"COV_X0_X2/C\"]"
   ]
  },
  {
   "cell_type": "code",
   "execution_count": 21,
   "id": "b6564c17-c39c-47e7-9cee-b0559b5eb2e8",
   "metadata": {
    "tags": []
   },
   "outputs": [],
   "source": [
    "df.to_csv(\"./lc_fit_results_SALT2_HST_Pantheon.txt\", sep=' ', index=False)"
   ]
  },
  {
   "cell_type": "markdown",
   "id": "274c9843-8704-4ad2-9729-b0633f18275c",
   "metadata": {
    "tags": []
   },
   "source": [
    "## Análises dos Ajustes"
   ]
  },
  {
   "cell_type": "code",
   "execution_count": 22,
   "id": "fcc233a3-6c26-4a16-b273-b73d65caa662",
   "metadata": {},
   "outputs": [],
   "source": [
    "df_salt2_bf_cuts=df[df[\"MODEL\"]==\"SALT2_ORI\"].reset_index(drop=True)\n",
    "df_salt2=df[(df[\"MODEL\"]==\"SALT2_ORI\") & (abs(df[\"X1\"])<=3.) & (abs(df[\"X2/C\"])<=0.3) & (df[\"CHISQ/NDOF\"]<=5.)].reset_index(drop=True)"
   ]
  },
  {
   "cell_type": "code",
   "execution_count": 23,
   "id": "f6586fb4-32d6-4840-b22a-c3553771ab1d",
   "metadata": {},
   "outputs": [],
   "source": [
    "passcut_salt2=len(df[df[\"MODEL\"]==\"SALT2_ORI\"])\n",
    "passcut_salt2_x1=len(df[(df[\"MODEL\"]==\"SALT2_ORI\") & (abs(df[\"X1\"])<=3.)])\n",
    "passcut_salt2_c=len(df[(df[\"MODEL\"]==\"SALT2_ORI\") & (abs(df[\"X2/C\"])<=0.3)])\n",
    "passcut_salt2_chi2=len(df[(df[\"MODEL\"]==\"SALT2_ORI\") & (df[\"CHISQ/NDOF\"]<=5.)])"
   ]
  },
  {
   "cell_type": "markdown",
   "id": "5c81c4fc-0e82-4887-92eb-22c4d99e18d5",
   "metadata": {},
   "source": [
    "#### Checando distribuição dos parâmetros"
   ]
  },
  {
   "cell_type": "code",
   "execution_count": 24,
   "id": "3b3a6a7b-b56a-4d35-8249-a397f2c38fa6",
   "metadata": {},
   "outputs": [
    {
     "name": "stdout",
     "output_type": "stream",
     "text": [
      "De um total 172 SNe, 27 foram bem ajustadas.\n",
      "1 não passaram no corte de |X1| < 3.\n",
      "0 não passaram no corte de |C| < 0.3\n",
      "0 não passaram no corte de Chi2 < 5.\n",
      "No final ficamos com 26 Sne.\n"
     ]
    },
    {
     "data": {
      "image/png": "[encoded data removed]",
      "text/plain": [
       "<Figure size 1584x432 with 3 Axes>"
      ]
     },
     "metadata": {},
     "output_type": "display_data"
    }
   ],
   "source": [
    "fig, ((ax1, ax2, ax3)) = plt.subplots(1,3,figsize=(22,6))\n",
    "fig.suptitle(\"Distributions SALT2 parameters\",fontsize=16)\n",
    "\n",
    "bins = 8\n",
    "bins = np.histogram(np.hstack((df_salt2_bf_cuts[\"X1\"], df_salt2[\"X1\"])), bins=bins)[1]\n",
    "ax1.hist(df_salt2_bf_cuts[\"X1\"],color=\"purple\",bins=bins,alpha=0.6)\n",
    "ax1.hist(df_salt2[\"X1\"],color=\"blue\",bins=bins,alpha=0.4)\n",
    "ax1.set_xlabel(r\"$x_1$\")\n",
    "ax1.set_ylabel(r\"$counts$\")\n",
    "ax1.axvline(3.,c=\"gray\")\n",
    "ax1.axvline(-3.,c=\"gray\")\n",
    "\n",
    "bins = 8\n",
    "bins = np.histogram(np.hstack((df_salt2_bf_cuts[\"X2/C\"], df_salt2[\"X2/C\"])), bins=bins)[1]\n",
    "ax2.hist(df_salt2_bf_cuts[\"X2/C\"],bins=bins,color=\"purple\",alpha=0.6)\n",
    "ax2.hist(df_salt2[\"X2/C\"],color=\"blue\",alpha=0.4,bins=bins)\n",
    "ax2.set_xlabel(r\"$c$\")\n",
    "ax2.set_ylabel(r\"$counts$\")\n",
    "ax2.axvline(0.3,c=\"gray\")\n",
    "ax2.axvline(-0.3,c=\"gray\")\n",
    "\n",
    "bins = 8\n",
    "bins = np.histogram(np.hstack((df_salt2_bf_cuts[\"CHISQ/NDOF\"], df_salt2[\"CHISQ/NDOF\"])), bins=bins)[1]\n",
    "ax3.hist(df_salt2_bf_cuts[\"CHISQ/NDOF\"],bins=bins,color=\"purple\",alpha=0.6)\n",
    "ax3.hist(df_salt2[\"CHISQ/NDOF\"],bins=bins,color=\"blue\",alpha=0.4)\n",
    "ax3.set_xlabel(r\"$\\chi^2/ndof$\")\n",
    "ax3.set_ylabel(r\"$counts$\")\n",
    "ax3.axvline(0.,c=\"gray\")\n",
    "ax3.axvline(5.,c=\"gray\")\n",
    "\n",
    "print(f\"De um total 172 SNe, {passcut_salt2} foram bem ajustadas.\")\n",
    "print(f\"{passcut_salt2-passcut_salt2_x1} não passaram no corte de |X1| < 3.\")\n",
    "print(f\"{passcut_salt2-passcut_salt2_c} não passaram no corte de |C| < 0.3\")\n",
    "print(f\"{passcut_salt2-passcut_salt2_chi2} não passaram no corte de Chi2 < 5.\")\n",
    "print(f\"No final ficamos com {len(df_salt2)} Sne.\")"
   ]
  },
  {
   "cell_type": "markdown",
   "id": "35ee90cf-145b-4406-8211-54ecdd657e92",
   "metadata": {
    "tags": []
   },
   "source": [
    "#### Checando correlação entre os parâmetros"
   ]
  },
  {
   "cell_type": "code",
   "execution_count": 25,
   "id": "973f4925-235c-4318-9c32-5a8acb849959",
   "metadata": {
    "tags": []
   },
   "outputs": [
    {
     "data": {
      "image/png": "[encoded data removed]",
      "text/plain": [
       "<Figure size 1584x432 with 3 Axes>"
      ]
     },
     "metadata": {},
     "output_type": "display_data"
    }
   ],
   "source": [
    "fig, ((ax1, ax2, ax3)) = plt.subplots(1,3,figsize=(22,6))\n",
    "fig.suptitle(\"Correlations SALT2 parameters\",fontsize=16)\n",
    "\n",
    "ax1.plot(df_salt2[\"mB\"],df_salt2[\"X1\"],'.',c=\"purple\")\n",
    "ax1.set_xlabel(r\"$m_B$\")\n",
    "ax1.set_ylabel(r\"$x_1$\")\n",
    "at1 = AnchoredText(\"Pearson Cor.=%.4f\"%(round(np.corrcoef(df_salt2[\"mB\"], df_salt2[\"X1\"])[0][1],4)), prop=dict(size=15), frameon=True, loc='upper left')\n",
    "at1.patch.set_boxstyle(\"round,pad=0.,rounding_size=0.2\")\n",
    "ax1.add_artist(at1)\n",
    "\n",
    "ax2.plot(df_salt2[\"mB\"],df_salt2[\"X2/C\"],'.',c=\"purple\")\n",
    "ax2.set_xlabel(r\"$m_B$\")\n",
    "ax2.set_ylabel(r\"$c$\")\n",
    "at2 = AnchoredText(\"Pearson Cor.=%.4f\"%(round(np.corrcoef(df_salt2[\"mB\"], df_salt2[\"X2/C\"])[0][1],4)), prop=dict(size=15), frameon=True, loc='upper left')\n",
    "at2.patch.set_boxstyle(\"round,pad=0.,rounding_size=0.2\")\n",
    "ax2.add_artist(at2)\n",
    "\n",
    "ax3.plot(df_salt2[\"X1\"],df_salt2[\"X2/C\"],'.',c=\"purple\")\n",
    "ax3.set_xlabel(r\"$x_1$\")\n",
    "ax3.set_ylabel(r\"$c$\")\n",
    "at3 = AnchoredText(\"Pearson Cor.=%.4f\"%(round(np.corrcoef(df_salt2[\"X1\"], df_salt2[\"X2/C\"])[0][1],4)), prop=dict(size=15), frameon=True, loc='upper left')\n",
    "at3.patch.set_boxstyle(\"round,pad=0.,rounding_size=0.2\")\n",
    "ax3.add_artist(at3);"
   ]
  }
 ],
 "metadata": {
  "kernelspec": {
   "display_name": "Python 3 (ipykernel)",
   "language": "python",
   "name": "python3"
  },
  "language_info": {
   "codemirror_mode": {
    "name": "ipython",
    "version": 3
   },
   "file_extension": ".py",
   "mimetype": "text/x-python",
   "name": "python",
   "nbconvert_exporter": "python",
   "pygments_lexer": "ipython3",
   "version": "3.10.5"
  }
 },
 "nbformat": 4,
 "nbformat_minor": 5
}

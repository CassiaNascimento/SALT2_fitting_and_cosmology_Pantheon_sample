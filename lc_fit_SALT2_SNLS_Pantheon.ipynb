{
 "cells": [
  {
   "cell_type": "code",
   "execution_count": 1,
   "id": "6572e158",
   "metadata": {},
   "outputs": [
    {
     "name": "stderr",
     "output_type": "stream",
     "text": [
      "WARNING: AstropyDeprecationWarning: The update_default_config function is deprecated and may be removed in a future version. [sncosmo]\n"
     ]
    }
   ],
   "source": [
    "import sncosmo\n",
    "import numpy as np\n",
    "import ipywidgets as widgets\n",
    "import pandas as pd\n",
    "import matplotlib.pyplot as plt\n",
    "from sncosmo.salt2utils import BicubicInterpolator\n",
    "from scipy.interpolate import (\n",
    "    InterpolatedUnivariateSpline as Spline1d,\n",
    "    RectBivariateSpline as Spline2d\n",
    ")\n",
    "import pickle as pk\n",
    "from matplotlib.backends.backend_pdf import PdfPages\n",
    "import os \n",
    "from matplotlib.offsetbox import AnchoredText\n",
    "import astropy.constants as const\n",
    "import astropy.units as u\n",
    "import seaborn as sns\n",
    "\n",
    "sns.set(style='whitegrid')\n",
    "plt.rc('xtick',labelsize=12)\n",
    "plt.rc('ytick',labelsize=12)\n",
    "\n",
    "H_ERG_S = const.h.cgs.value\n",
    "C_AA_PER_S = const.c.to(u.AA / u.s).value\n",
    "HC_ERG_AA = H_ERG_S * C_AA_PER_S\n",
    "SCALE_FACTOR = 1e-12"
   ]
  },
  {
   "cell_type": "markdown",
   "id": "a67bac7d-8d4c-4021-9cc7-1f8d47e03c19",
   "metadata": {},
   "source": [
    "## Comentários"
   ]
  },
  {
   "cell_type": "markdown",
   "id": "5cb35dc9-047a-4557-bf60-0ec1c5385e36",
   "metadata": {},
   "source": [
    "Estou testando cortar partes dos filtros pros modelos falharem menos."
   ]
  },
  {
   "cell_type": "markdown",
   "id": "eb821a35-da3e-4392-a407-6a9cf190076a",
   "metadata": {},
   "source": [
    "Algumas SNe estão repetidas. Não há ajuste duplicado porque há uma ordem para checar se existem os arquivos, então o último a ser checado é o ajustado. Mas isso é um problema a ser observado."
   ]
  },
  {
   "cell_type": "markdown",
   "id": "75d899fe-0ec0-4f71-9db2-1ce9978a8241",
   "metadata": {},
   "source": [
    "A covariância afeta bastante o resultado do CHISQ inclusive para o SALT2 e SALT2 cortado, então acho que podemos ser flexíveis nesse corte ou melhorar o modelo da covariância do EXP."
   ]
  },
  {
   "cell_type": "markdown",
   "id": "0964b5a7-2af2-42a8-9199-075f65bafe43",
   "metadata": {
    "tags": []
   },
   "source": [
    "## Recuperando curvas de luz"
   ]
  },
  {
   "cell_type": "code",
   "execution_count": 2,
   "id": "63aec6ca",
   "metadata": {},
   "outputs": [],
   "source": [
    "path=\"/home/cassia/SNANA/snroot/lcmerge/JLA2014_SNLS/\""
   ]
  },
  {
   "cell_type": "code",
   "execution_count": 3,
   "id": "b6027139-9d4e-4a0a-adc1-dbd4c6d8bd1e",
   "metadata": {},
   "outputs": [],
   "source": [
    "sne_snls_pan=pd.read_csv(\"snls_pantheon.txt\",header=None,dtype=str)"
   ]
  },
  {
   "cell_type": "code",
   "execution_count": 4,
   "id": "1e8f3743",
   "metadata": {},
   "outputs": [],
   "source": [
    "sne_list=np.array(sne_snls_pan).T[0]"
   ]
  },
  {
   "cell_type": "code",
   "execution_count": 5,
   "id": "c435ac2e",
   "metadata": {},
   "outputs": [],
   "source": [
    "path_filters=\"/home/cassia/SNANA/snroot/filters/PS1/Pantheon/SNLS3-Megacam/\""
   ]
  },
  {
   "cell_type": "markdown",
   "id": "5295a5d4-50ec-4f32-b9a6-be24e563cfe5",
   "metadata": {
    "tags": []
   },
   "source": [
    "## Registrando filtros"
   ]
  },
  {
   "cell_type": "code",
   "execution_count": 6,
   "id": "7d78a2f5-8e09-4d4c-a6d9-0062e696781e",
   "metadata": {},
   "outputs": [],
   "source": [
    "ab = sncosmo.get_magsystem('ab')"
   ]
  },
  {
   "cell_type": "code",
   "execution_count": 7,
   "id": "237f06be-7368-4a24-b534-37609af5a302",
   "metadata": {},
   "outputs": [],
   "source": [
    "for sn in sne_list:\n",
    "    for filt in [\"g\",\"r\",\"i\",\"z\"]:\n",
    "        wave = pd.read_csv(path_filters+\"effMEGACAM-\"+filt+\".dat\",header=None,sep=\"\\s+\",comment=\"#\")[0].values\n",
    "        trans = pd.read_csv(path_filters+\"effMEGACAM-\"+filt+\".dat\",header=None,sep=\"\\s+\",comment=\"#\")[1].values\n",
    "        band = sncosmo.Bandpass(wave, trans, name=\"SNLS_\"+filt,trim_level=0.05)\n",
    "        \n",
    "        sncosmo.registry.register(band, force=True)"
   ]
  },
  {
   "cell_type": "code",
   "execution_count": 8,
   "id": "75a229bd-e939-4d39-b442-e21a58a49657",
   "metadata": {},
   "outputs": [],
   "source": [
    "magsystem={\"SNLS_g\":(\"ab\",-0.0067+ 0.0076605430),\n",
    "        \"SNLS_r\":(\"ab\",-0.0081-0.0012669564),\n",
    "        \"SNLS_i\":(\"ab\",-0.0073-0.0057157707),\n",
    "        \"SNLS_z\":(\"ab\",-0.0078+0.0024809218)}"
   ]
  },
  {
   "cell_type": "markdown",
   "id": "410d3848",
   "metadata": {
    "tags": []
   },
   "source": [
    "## Ajustando curvas de luz"
   ]
  },
  {
   "cell_type": "code",
   "execution_count": 9,
   "id": "bc3464a9",
   "metadata": {},
   "outputs": [],
   "source": [
    "def lc_fit(sn):    \n",
    "    try:\n",
    "        meta, tables = sncosmo.read_snana_ascii(path+\"JLA2014_SNLS_\"+sn+\".dat\", default_tablename='OBS')\n",
    "    except:\n",
    "        print(f\"File not found for SN {sn}\")\n",
    "        return None\n",
    "    \n",
    "    dat=tables[\"OBS\"]\n",
    "    surv=\"SNLS\"\n",
    "\n",
    "    dat.add_column([surv+\"_\"+f for f in dat[\"FLT\"]], name='FILTER')\n",
    "    dat.remove_column(\"FLT\")\n",
    "     \n",
    "    dat.remove_rows(np.where(dat[\"FLUXCAL\"]<0)[0])\n",
    "    dat.remove_rows(np.where(np.isnan(dat[\"MAG\"]))[0])\n",
    "     \n",
    "    magsys=sncosmo.CompositeMagSystem(bands=magsystem,name=\"magsys\")\n",
    "    sncosmo.register(magsys,force=True)\n",
    "        \n",
    "    dat[\"ZP\"]=[2.5*np.log10(magsys.zpbandflux(f)) for f in dat[\"FILTER\"]]    \n",
    "    dat[\"FLUX\"]=[10**(-0.4*dat[\"MAG\"][i]+0.4*dat[\"ZP\"][i]) for i in range(len(dat[\"MAG\"]))]\n",
    "    dat[\"FLUXERR\"]=[abs(0.4*dat[\"FLUX\"][i]*np.log(10.)*dat[\"MAGERR\"][i]) for i in range(len(dat[\"MAG\"]))]\n",
    "    dat.add_column(\"ab\", name='ZPSYS')\n",
    "\n",
    "    dat.remove_columns([\"FIELD\",\"SNR\",\"MAG\",\"MAGERR\",\"Zpt\"])\n",
    "    \n",
    "    # ref de repouso: (t-t0)/(1+z), no SNANA fazem um corte de -15 a 45 no referencial de repouso. E também tem um corte no \n",
    "    # intervalo de comprimento de onda, eu apliquei esses cortes abaixo em phase_range e wave_range. Porém não tenho certeza\n",
    "    # se o sncosmo corta no ref de repouso ou do observador. Alterando isso, os valores de x1 para 2001ah e 2001az mudam drasticamento\n",
    "    # equivalendo a mesma mudança que ocorre no snana quando fazemos a mesma alteração no TREST_REJECT.    \n",
    "        \n",
    "    dust = sncosmo.F99Dust() \n",
    "\n",
    "    # para algumas sne como 2006bb o chi2 da minimizacao da Nan e não é possível ajustar a sn. A mesma sn no snana é ajustada pelo salt.\n",
    "    # alterando intervalo de dias e comprimento de onda de atuação do ajustador, ainda não é possível evitar o nan já no primeiro passo.\n",
    "    \n",
    "    rm_f=[]\n",
    "    if sn in [\"03D1fq\",\"03D4cx\",\"03D4cz\",\"03D4di\",\"04D1iv\",\"04D1pp\",\"04D2iu\",\"04D3dd\",\"04D3lu\",\"04D3ml\",\"04D4dw\",\"04D4ic\",\"04D4ih\",\n",
    "              \"04D4jw\",\"05D1az\",\"05D1cl\",\"05D3kp\",\"05D4cs\",\"05D4ev\",\"06D2ce\",\"06D4ce\",\"03D4cy\",\"04D1de\",\"04D1hy\",\"04D2gp\",\"04D3fq\",\n",
    "              \"04D3lp\",\"04D3nc\",\"04D3nr\",\"04D3oe\",\"04D4bk\",\"04D4dm\",\"04D4hf\",\"04D4ib\",\"05D1eo\",\"05D1iz\",\"05D2by\",\"05D2my\",\"05D2nt\",\n",
    "              \"05D3cx\",\"05D3gv\",\"05D3ht\",\"05D3jh\",\"05D4bi\",\"05D2ob\",\"05D2nn\",\"05D4dw\",\"04D4im\",\"05D2bw\",\"05D4hn\",\"06D4cl\",\"06D3bz\",\"06D3en\"]:\n",
    "        dat.remove_rows(np.where(dat[\"FILTER\"]==\"SNLS_g\"))\n",
    "        rm_f.append(\"SNLS_g\")\n",
    "    if sn in [\"03D1au\",\"04D1iv\",\"04D4an\",\"04D4hu\",\"04D4ic\",\"04D4ih\",\"04D4im\",\"04D4jw\",\"05D2hc\",\"05D3gp\",\"05D4bf\",\"05D4ev\",\"06D2cc\",\n",
    "              \"06D2ce\",\"06D3em\",\"03D1aw\",\"04D1jd\",\"04D1pu\",\"04D4id\",\"04D4ii\",\"05D1kl\",\"05D3ci\",\"05D3mh\",\"05D3mq\",\"05D4bi\",\"06D2cd\",\n",
    "              \"06D2ck\",\"06D2ga\"]:\n",
    "        dat.remove_rows(np.where(dat[\"FILTER\"]==\"SNLS_z\"))\n",
    "        rm_f.append(\"SNLS_z\")\n",
    "    \n",
    "    model = sncosmo.Model(source='salt2',effects=[dust],effect_names=['mw'],effect_frames=['obs'])\n",
    "    model.set(mwebv=meta[\"MWEBV\"],z=meta[\"REDSHIFT_FINAL\"]) \n",
    "    try:\n",
    "        result, fitted_model = sncosmo.fit_lc(dat, model, ['t0', 'x0', 'x1', 'c'],modelcov=True, phase_range=(-15,45), wave_range=(3000,7000), verbose=False)\n",
    "    except:\n",
    "        print(f\"SN {sn} fit returns NaN\")\n",
    "        result=None\n",
    "        fitted_model=None\n",
    "    \n",
    "    return meta, surv, rm_f, dat, result, fitted_model"
   ]
  },
  {
   "cell_type": "code",
   "execution_count": 10,
   "id": "82bdbc39-e372-4c04-832b-29a4e38bcfbb",
   "metadata": {
    "tags": []
   },
   "outputs": [],
   "source": [
    "pp = PdfPages(\"./lc_fit_plot_SALT2_SNLS_Pantheon.pdf\")"
   ]
  },
  {
   "cell_type": "code",
   "execution_count": 11,
   "id": "665389bd-78c2-477e-8f2d-6f534b178693",
   "metadata": {},
   "outputs": [],
   "source": [
    "def lc_fit_plot(sn, surv, rm_f ,table_data, result, fitted_model):\n",
    "    z=round(result[\"parameters\"][0],2)\n",
    "    t0=round(result[\"parameters\"][1],2)\n",
    "    x1=round(result[\"parameters\"][3],2)\n",
    "    x1err=round(result[\"errors\"][\"x1\"],2)\n",
    "    c=round(result[\"parameters\"][4],2)\n",
    "    cerr=round(result[\"errors\"][\"c\"],2)\n",
    "    mwebv=result[\"parameters\"][5]\n",
    "    phase=np.linspace(t0-15.,t0+45.,100)\n",
    "    fig=plt.figure(figsize=(12,8))\n",
    "    for i,f in enumerate([\"SNLS_\"+filt for filt in [\"g\",\"r\",\"i\",\"z\"]]):\n",
    "        dados_cortados=table_data[(table_data[\"MJD\"]>=t0-15.) & (table_data[\"MJD\"]<=t0+45.) & (table_data[\"FILTER\"]==f)]\n",
    "        if len(dados_cortados)==0:\n",
    "            continue\n",
    "        elif f not in rm_f:\n",
    "            plt.errorbar(dados_cortados[\"MJD\"]-t0,dados_cortados[\"FLUXCAL\"],yerr=dados_cortados[\"FLUXCALERR\"],label=f,ls=\"none\", marker='o',markersize=8,color='C%i'%i)\n",
    "            plt.plot(phase-t0,fitted_model.bandflux(f, phase)*10**(-0.4*dados_cortados[\"ZP\"][0]+11),linewidth=3,color='C%i'%i)\n",
    "            plt.xlabel(f\"MJD-{t0}\",fontsize=15)\n",
    "            plt.ylabel(r\"FLUX ($Z_{AB}$=27.5)\",fontsize=15)\n",
    "            plt.title(f\"SALT2 fit, SN: {sn}({surv}),   z:{z:.2f},   x1={x1:.2f}$\\pm${x1err:.2f},   c={c:.2f}$\\pm${cerr:.2f},   $\\chi^2$={result.chisq/result.ndof:.2f}\",fontsize=15)\n",
    "            plt.xlim(-17,47)\n",
    "            plt.legend(fontsize=15)\n",
    "        else:\n",
    "            continue\n",
    "    pp.savefig()\n",
    "    plt.close(fig)\n",
    "    #plt.show()"
   ]
  },
  {
   "cell_type": "code",
   "execution_count": 12,
   "id": "838b6f33-841f-47b2-96fd-30f5f2ba06c5",
   "metadata": {
    "tags": []
   },
   "outputs": [],
   "source": [
    " def return_fit_data(meta,res,model_name):\n",
    "    free_par=(list(res.errors.keys()))\n",
    "\n",
    "    return [meta[\"SNID\"], \"SNLS\", meta[\"REDSHIFT_FINAL\"], 0., res.parameters[1],\n",
    "           res.errors[free_par[0]], res.parameters[2], res.errors[free_par[1]], res.parameters[3],\n",
    "           res.errors[free_par[2]], res.parameters[4], res.errors[free_par[3]],\n",
    "           res.covariance[1][2], res.covariance[1][3], res.covariance[2][3], \n",
    "           res.chisq/res.ndof, model_name]"
   ]
  },
  {
   "cell_type": "code",
   "execution_count": 13,
   "id": "290d3745",
   "metadata": {
    "tags": []
   },
   "outputs": [],
   "source": [
    "all_fit_data=[]\n",
    "f=open(\"./lc_failed_fits_SALT2_SNLS_Pantheon.txt\",\"w\")\n",
    "i=0\n",
    "for sn in sne_list:\n",
    "\n",
    "    meta, surv, rm_f, table_data, result, fitted_model=lc_fit(sn) \n",
    "\n",
    "    if result is None:\n",
    "        f.write(f\"SN {sn} fit returns NaN\\n\")\n",
    "        continue\n",
    "    else:\n",
    "        if result.success and result.ndof>0:\n",
    "            all_fit_data.append(return_fit_data(meta,result,\"SALT2_ORI\"))\n",
    "        elif result.success and result.ndof==0:\n",
    "            f.write(\"ndof 0 for SN\"+sn+\"\\n\")\n",
    "        elif not result.success:\n",
    "            f.write(\"Unsuccessful fit of SN\"+sn+\"\\n\")\n",
    "\n",
    "    lc_fit_plot(sn, surv, rm_f, table_data, result, fitted_model)                       "
   ]
  },
  {
   "cell_type": "code",
   "execution_count": 14,
   "id": "d1c3f8a0-b9a0-4080-a358-6a39029f8bdf",
   "metadata": {
    "tags": []
   },
   "outputs": [],
   "source": [
    "pp.close()"
   ]
  },
  {
   "cell_type": "code",
   "execution_count": 15,
   "id": "50e90d9d-8b9f-4e56-bc35-38b685bd7099",
   "metadata": {
    "tags": []
   },
   "outputs": [],
   "source": [
    "f.close()"
   ]
  },
  {
   "cell_type": "markdown",
   "id": "00927538-5283-4776-bfac-4b26b16b36f4",
   "metadata": {
    "tags": []
   },
   "source": [
    "## Salvando dados dos ajustes"
   ]
  },
  {
   "cell_type": "code",
   "execution_count": 16,
   "id": "8ea90bd8-e0c9-4915-b7ff-bb3b6851ab2b",
   "metadata": {
    "tags": []
   },
   "outputs": [],
   "source": [
    "df=pd.DataFrame(all_fit_data)"
   ]
  },
  {
   "cell_type": "code",
   "execution_count": 17,
   "id": "d04da509-71b5-4b86-b7e4-6aac084a66ba",
   "metadata": {
    "tags": []
   },
   "outputs": [],
   "source": [
    "df=pd.DataFrame(all_fit_data)\n",
    "df.columns=(\"SNNAME\", \"SURVEY\", \"Z\", \"ZERR\", \"T0\", \"T0ERR\", \"X0\", \"X0ERR\", \"X1\", \"X1ERR\", \"X2/C\", \"X2/CERR\", \"COV_X0_X1\", \"COV_X0_X2/C\", \"COV_X1_X2/C\", \"CHISQ/NDOF\", \"MODEL\")"
   ]
  },
  {
   "cell_type": "code",
   "execution_count": 18,
   "id": "72ad5e00-dbed-44ff-b9a9-9b20f8662f8f",
   "metadata": {
    "tags": []
   },
   "outputs": [],
   "source": [
    "df[\"mB\"]=-2.5*np.log10(df[\"X0\"])+10.635  # Mosher 2014\n",
    "df[\"mBERR\"]=np.abs(-2.5*np.log10(np.e)/df[\"X0\"]*df[\"X0ERR\"])\n",
    "df[\"COV_mB_X1\"]=-2.5*np.log10(np.e)/df[\"X0\"]*df[\"COV_X0_X1\"]\n",
    "df[\"COV_mB_X2/C\"]=-2.5*np.log10(np.e)/df[\"X0\"]*df[\"COV_X0_X2/C\"]"
   ]
  },
  {
   "cell_type": "code",
   "execution_count": 19,
   "id": "b6564c17-c39c-47e7-9cee-b0559b5eb2e8",
   "metadata": {
    "tags": []
   },
   "outputs": [],
   "source": [
    "df.to_csv(\"./lc_fit_results_SALT2_SNLS_Pantheon.txt\", sep=' ', index=False)"
   ]
  },
  {
   "cell_type": "markdown",
   "id": "274c9843-8704-4ad2-9729-b0633f18275c",
   "metadata": {
    "tags": []
   },
   "source": [
    "## Análises dos Ajustes"
   ]
  },
  {
   "cell_type": "code",
   "execution_count": 20,
   "id": "fcc233a3-6c26-4a16-b273-b73d65caa662",
   "metadata": {},
   "outputs": [],
   "source": [
    "df_salt2_bf_cuts=df[df[\"MODEL\"]==\"SALT2_ORI\"].reset_index(drop=True)\n",
    "df_salt2=df[(df[\"MODEL\"]==\"SALT2_ORI\") & (abs(df[\"X1\"])<=3.) & (abs(df[\"X2/C\"])<=0.3) & (df[\"CHISQ/NDOF\"]<=5.)].reset_index(drop=True)"
   ]
  },
  {
   "cell_type": "code",
   "execution_count": 21,
   "id": "ab4ccc1b-4846-4fcb-92fe-6850613e4b10",
   "metadata": {},
   "outputs": [
    {
     "data": {
      "text/html": [
       "<div>\n",
       "<style scoped>\n",
       "    .dataframe tbody tr th:only-of-type {\n",
       "        vertical-align: middle;\n",
       "    }\n",
       "\n",
       "    .dataframe tbody tr th {\n",
       "        vertical-align: top;\n",
       "    }\n",
       "\n",
       "    .dataframe thead th {\n",
       "        text-align: right;\n",
       "    }\n",
       "</style>\n",
       "<table border=\"1\" class=\"dataframe\">\n",
       "  <thead>\n",
       "    <tr style=\"text-align: right;\">\n",
       "      <th></th>\n",
       "      <th>SNNAME</th>\n",
       "      <th>SURVEY</th>\n",
       "      <th>Z</th>\n",
       "      <th>ZERR</th>\n",
       "      <th>T0</th>\n",
       "      <th>T0ERR</th>\n",
       "      <th>X0</th>\n",
       "      <th>X0ERR</th>\n",
       "      <th>X1</th>\n",
       "      <th>X1ERR</th>\n",
       "      <th>...</th>\n",
       "      <th>X2/CERR</th>\n",
       "      <th>COV_X0_X1</th>\n",
       "      <th>COV_X0_X2/C</th>\n",
       "      <th>COV_X1_X2/C</th>\n",
       "      <th>CHISQ/NDOF</th>\n",
       "      <th>MODEL</th>\n",
       "      <th>mB</th>\n",
       "      <th>mBERR</th>\n",
       "      <th>COV_mB_X1</th>\n",
       "      <th>COV_mB_X2/C</th>\n",
       "    </tr>\n",
       "  </thead>\n",
       "  <tbody>\n",
       "  </tbody>\n",
       "</table>\n",
       "<p>0 rows × 21 columns</p>\n",
       "</div>"
      ],
      "text/plain": [
       "Empty DataFrame\n",
       "Columns: [SNNAME, SURVEY, Z, ZERR, T0, T0ERR, X0, X0ERR, X1, X1ERR, X2/C, X2/CERR, COV_X0_X1, COV_X0_X2/C, COV_X1_X2/C, CHISQ/NDOF, MODEL, mB, mBERR, COV_mB_X1, COV_mB_X2/C]\n",
       "Index: []\n",
       "\n",
       "[0 rows x 21 columns]"
      ]
     },
     "execution_count": 21,
     "metadata": {},
     "output_type": "execute_result"
    }
   ],
   "source": [
    "df[df[\"CHISQ/NDOF\"]>5.]"
   ]
  },
  {
   "cell_type": "code",
   "execution_count": 22,
   "id": "f6586fb4-32d6-4840-b22a-c3553771ab1d",
   "metadata": {},
   "outputs": [],
   "source": [
    "passcut_salt2=len(df[df[\"MODEL\"]==\"SALT2_ORI\"])\n",
    "passcut_salt2_x1=len(df[(df[\"MODEL\"]==\"SALT2_ORI\") & (abs(df[\"X1\"])<=3.)])\n",
    "passcut_salt2_c=len(df[(df[\"MODEL\"]==\"SALT2_ORI\") & (abs(df[\"X2/C\"])<=0.3)])\n",
    "passcut_salt2_chi2=len(df[(df[\"MODEL\"]==\"SALT2_ORI\") & (df[\"CHISQ/NDOF\"]<=5.)])"
   ]
  },
  {
   "cell_type": "markdown",
   "id": "5c81c4fc-0e82-4887-92eb-22c4d99e18d5",
   "metadata": {},
   "source": [
    "#### Checando distribuição dos parâmetros"
   ]
  },
  {
   "cell_type": "code",
   "execution_count": 25,
   "id": "3b3a6a7b-b56a-4d35-8249-a397f2c38fa6",
   "metadata": {},
   "outputs": [
    {
     "name": "stdout",
     "output_type": "stream",
     "text": [
      "De um total 172 SNe, 236 foram bem ajustadas.\n",
      "0 não passaram no corte de |X1| < 3.\n",
      "0 não passaram no corte de |C| < 0.3\n",
      "0 não passaram no corte de Chi2 < 5.\n",
      "No final ficamos com 236 Sne.\n"
     ]
    },
    {
     "data": {
      "image/png": "[encoded data removed]",
      "text/plain": [
       "<Figure size 1584x432 with 3 Axes>"
      ]
     },
     "metadata": {},
     "output_type": "display_data"
    }
   ],
   "source": [
    "fig, ((ax1, ax2, ax3)) = plt.subplots(1,3,figsize=(22,6))\n",
    "fig.suptitle(\"Distributions SALT2 parameters\",fontsize=16)\n",
    "\n",
    "bins = 10\n",
    "bins = np.histogram(np.hstack((df_salt2_bf_cuts[\"X1\"], df_salt2[\"X1\"])), bins=bins)[1]\n",
    "ax1.hist(df_salt2_bf_cuts[\"X1\"],color=\"purple\",bins=bins,alpha=0.6)\n",
    "ax1.hist(df_salt2[\"X1\"],color=\"blue\",bins=bins,alpha=0.4)\n",
    "ax1.set_xlabel(r\"$x_1$\")\n",
    "ax1.set_ylabel(r\"$counts$\")\n",
    "ax1.axvline(3.,c=\"gray\")\n",
    "ax1.axvline(-3.,c=\"gray\")\n",
    "\n",
    "bins = 10\n",
    "bins = np.histogram(np.hstack((df_salt2_bf_cuts[\"X2/C\"], df_salt2[\"X2/C\"])), bins=bins)[1]\n",
    "ax2.hist(df_salt2_bf_cuts[\"X2/C\"],bins=bins,color=\"purple\",alpha=0.6)\n",
    "ax2.hist(df_salt2[\"X2/C\"],color=\"blue\",alpha=0.4,bins=bins)\n",
    "ax2.set_xlabel(r\"$c$\")\n",
    "ax2.set_ylabel(r\"$counts$\")\n",
    "ax2.set_xlim(-0.5,0.5)\n",
    "ax2.axvline(0.3,c=\"gray\")\n",
    "ax2.axvline(-0.3,c=\"gray\")\n",
    "\n",
    "bins = 10\n",
    "bins = np.histogram(np.hstack((df_salt2_bf_cuts[\"CHISQ/NDOF\"], df_salt2[\"CHISQ/NDOF\"])), bins=bins)[1]\n",
    "ax3.hist(df_salt2_bf_cuts[\"CHISQ/NDOF\"],bins=bins,color=\"purple\",alpha=0.6)\n",
    "ax3.hist(df_salt2[\"CHISQ/NDOF\"],bins=bins,color=\"blue\",alpha=0.4)\n",
    "ax3.set_xlabel(r\"$\\chi^2/ndof$\")\n",
    "ax3.set_ylabel(r\"$counts$\")\n",
    "ax3.set_xlim(0,7)\n",
    "ax3.axvline(0.,c=\"gray\")\n",
    "ax3.axvline(5.,c=\"gray\")\n",
    "\n",
    "print(f\"De um total 172 SNe, {passcut_salt2} foram bem ajustadas.\")\n",
    "print(f\"{passcut_salt2-passcut_salt2_x1} não passaram no corte de |X1| < 3.\")\n",
    "print(f\"{passcut_salt2-passcut_salt2_c} não passaram no corte de |C| < 0.3\")\n",
    "print(f\"{passcut_salt2-passcut_salt2_chi2} não passaram no corte de Chi2 < 5.\")\n",
    "print(f\"No final ficamos com {len(df_salt2)} Sne.\")"
   ]
  },
  {
   "cell_type": "markdown",
   "id": "35ee90cf-145b-4406-8211-54ecdd657e92",
   "metadata": {},
   "source": [
    "#### Checando correlação entre os parâmetros"
   ]
  },
  {
   "cell_type": "code",
   "execution_count": 24,
   "id": "973f4925-235c-4318-9c32-5a8acb849959",
   "metadata": {
    "tags": []
   },
   "outputs": [
    {
     "data": {
      "image/png": "[encoded data removed]",
      "text/plain": [
       "<Figure size 1584x432 with 3 Axes>"
      ]
     },
     "metadata": {},
     "output_type": "display_data"
    }
   ],
   "source": [
    "fig, ((ax1, ax2, ax3)) = plt.subplots(1,3,figsize=(22,6))\n",
    "fig.suptitle(\"Correlations SALT2 parameters\",fontsize=16)\n",
    "\n",
    "ax1.plot(df_salt2[\"mB\"],df_salt2[\"X1\"],'.',c=\"purple\")\n",
    "ax1.set_xlabel(r\"$m_B$\")\n",
    "ax1.set_ylabel(r\"$x_1$\")\n",
    "at1 = AnchoredText(\"Pearson Cor.=%.4f\"%(round(np.corrcoef(df_salt2[\"mB\"], df_salt2[\"X1\"])[0][1],4)), prop=dict(size=15), frameon=True, loc='upper left')\n",
    "at1.patch.set_boxstyle(\"round,pad=0.,rounding_size=0.2\")\n",
    "ax1.add_artist(at1)\n",
    "\n",
    "ax2.plot(df_salt2[\"mB\"],df_salt2[\"X2/C\"],'.',c=\"purple\")\n",
    "ax2.set_xlabel(r\"$m_B$\")\n",
    "ax2.set_ylabel(r\"$c$\")\n",
    "at2 = AnchoredText(\"Pearson Cor.=%.4f\"%(round(np.corrcoef(df_salt2[\"mB\"], df_salt2[\"X2/C\"])[0][1],4)), prop=dict(size=15), frameon=True, loc='upper left')\n",
    "at2.patch.set_boxstyle(\"round,pad=0.,rounding_size=0.2\")\n",
    "ax2.add_artist(at2)\n",
    "\n",
    "ax3.plot(df_salt2[\"X1\"],df_salt2[\"X2/C\"],'.',c=\"purple\")\n",
    "ax3.set_xlabel(r\"$x_1$\")\n",
    "ax3.set_ylabel(r\"$c$\")\n",
    "at3 = AnchoredText(\"Pearson Cor.=%.4f\"%(round(np.corrcoef(df_salt2[\"X1\"], df_salt2[\"X2/C\"])[0][1],4)), prop=dict(size=15), frameon=True, loc='upper left')\n",
    "at3.patch.set_boxstyle(\"round,pad=0.,rounding_size=0.2\")\n",
    "ax3.add_artist(at3);"
   ]
  }
 ],
 "metadata": {
  "kernelspec": {
   "display_name": "Python 3 (ipykernel)",
   "language": "python",
   "name": "python3"
  },
  "language_info": {
   "codemirror_mode": {
    "name": "ipython",
    "version": 3
   },
   "file_extension": ".py",
   "mimetype": "text/x-python",
   "name": "python",
   "nbconvert_exporter": "python",
   "pygments_lexer": "ipython3",
   "version": "3.8.13"
  }
 },
 "nbformat": 4,
 "nbformat_minor": 5
}
